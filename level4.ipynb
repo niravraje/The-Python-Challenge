{
 "cells": [
  {
   "cell_type": "markdown",
   "metadata": {},
   "source": [
    "# Level 4\n",
    "\n",
    "Problem link: http://www.pythonchallenge.com/pc/def/linkedlist.php"
   ]
  },
  {
   "cell_type": "code",
   "execution_count": 90,
   "metadata": {
    "collapsed": true
   },
   "outputs": [],
   "source": [
    "import urllib\n",
    "import re"
   ]
  },
  {
   "cell_type": "markdown",
   "metadata": {},
   "source": [
    "View page source to obtain the URL: http://www.pythonchallenge.com/pc/def/linkedlist.php?nothing=12345"
   ]
  },
  {
   "cell_type": "code",
   "execution_count": 91,
   "metadata": {},
   "outputs": [],
   "source": [
    "url = \"http://www.pythonchallenge.com/pc/def/linkedlist.php?nothing\"\n",
    "first_nothing = 12345"
   ]
  },
  {
   "cell_type": "code",
   "execution_count": 92,
   "metadata": {},
   "outputs": [],
   "source": [
    "def search_for_nothing(url, first_nothing):\n",
    "\n",
    "    i = 1\n",
    "    next_nothing = first_nothing\n",
    "    \n",
    "    while(next_nothing):\n",
    "        \n",
    "        url = \"http://www.pythonchallenge.com/pc/def/linkedlist.php?nothing=\"+str(next_nothing)\n",
    "        data = urllib.request.urlopen(url).read().decode()\n",
    "        #print(\"Data item \",i,\" = \",data)\n",
    "        #i = i+1\n",
    "        next_nothing = re.findall(r'and the next nothing is (\\d+)', data)\n",
    "        next_nothing = ''.join(next_nothing)\n",
    "        \n",
    "    return data, url"
   ]
  },
  {
   "cell_type": "code",
   "execution_count": 93,
   "metadata": {},
   "outputs": [],
   "source": [
    "val, url2 = search_for_nothing(url, first_nothing)"
   ]
  },
  {
   "cell_type": "code",
   "execution_count": 94,
   "metadata": {},
   "outputs": [
    {
     "name": "stdout",
     "output_type": "stream",
     "text": [
      "Yes. Divide by two and keep going.\n",
      "http://www.pythonchallenge.com/pc/def/linkedlist.php?nothing=16044\n"
     ]
    }
   ],
   "source": [
    "print(val)\n",
    "print(url2)"
   ]
  },
  {
   "cell_type": "code",
   "execution_count": 95,
   "metadata": {},
   "outputs": [],
   "source": [
    "data2 = urllib.request.urlopen(url2).read().decode()"
   ]
  },
  {
   "cell_type": "code",
   "execution_count": 107,
   "metadata": {
    "scrolled": true
   },
   "outputs": [],
   "source": [
    "next_nothing = re.findall(r'nothing=(\\d+)', url2)\n",
    "next_nothing = ''.join(next_nothing)\n",
    "next_nothing = str(int(next_nothing)/2)"
   ]
  },
  {
   "cell_type": "code",
   "execution_count": 108,
   "metadata": {
    "collapsed": true
   },
   "outputs": [],
   "source": [
    "val, url3 = search_for_nothing(url2, next_nothing)"
   ]
  },
  {
   "cell_type": "code",
   "execution_count": 109,
   "metadata": {},
   "outputs": [
    {
     "name": "stdout",
     "output_type": "stream",
     "text": [
      "peak.html\n",
      "http://www.pythonchallenge.com/pc/def/linkedlist.php?nothing=66831\n"
     ]
    }
   ],
   "source": [
    "print(val)\n",
    "print(url3)"
   ]
  },
  {
   "cell_type": "markdown",
   "metadata": {},
   "source": [
    "Level 5 link: http://www.pythonchallenge.com/pc/def/peak.html"
   ]
  }
 ],
 "metadata": {
  "kernelspec": {
   "display_name": "Python 3",
   "language": "python",
   "name": "python3"
  },
  "language_info": {
   "codemirror_mode": {
    "name": "ipython",
    "version": 3
   },
   "file_extension": ".py",
   "mimetype": "text/x-python",
   "name": "python",
   "nbconvert_exporter": "python",
   "pygments_lexer": "ipython3",
   "version": "3.6.3"
  }
 },
 "nbformat": 4,
 "nbformat_minor": 2
}
