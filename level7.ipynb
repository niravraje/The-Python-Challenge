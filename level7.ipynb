{
 "cells": [
  {
   "cell_type": "markdown",
   "metadata": {},
   "source": [
    "# Level 7\n",
    "\n",
    "Problem link: http://www.pythonchallenge.com/pc/def/oxygen.html"
   ]
  },
  {
   "cell_type": "code",
   "execution_count": 59,
   "metadata": {
    "collapsed": true
   },
   "outputs": [],
   "source": [
    "import cv2\n",
    "import urllib\n",
    "import numpy as np\n",
    "import re"
   ]
  },
  {
   "cell_type": "code",
   "execution_count": 23,
   "metadata": {},
   "outputs": [],
   "source": [
    "# Read image from URL directly\n",
    "# Note that this image's pixels will have 4 channels.\n",
    "'''\n",
    "resp = urllib.request.urlopen(\"http://www.pythonchallenge.com/pc/def/oxygen.png\")\n",
    "\n",
    "img_array = np.asarray(bytearray(resp.read()))\n",
    "img = cv2.imdecode(img_array, -1)\n",
    "'''\n",
    "\n",
    "#img = cv2.imread('oxygen.png', cv2.IMREAD_COLOR) # original color image, strips alpha value\n",
    "\n",
    "img = cv2.imread('oxygen.png', cv2.IMREAD_UNCHANGED) # unchanged, contains alpha value\n"
   ]
  },
  {
   "cell_type": "code",
   "execution_count": 24,
   "metadata": {},
   "outputs": [],
   "source": [
    "cv2.imshow('oxygen image', img)\n",
    "cv2.waitKey(0)\n",
    "cv2.destroyAllWindows()"
   ]
  },
  {
   "cell_type": "code",
   "execution_count": 25,
   "metadata": {
    "scrolled": true
   },
   "outputs": [
    {
     "data": {
      "text/plain": [
       "(95, 629, 4)"
      ]
     },
     "execution_count": 25,
     "metadata": {},
     "output_type": "execute_result"
    }
   ],
   "source": [
    "img.shape"
   ]
  },
  {
   "cell_type": "code",
   "execution_count": 39,
   "metadata": {
    "collapsed": true
   },
   "outputs": [],
   "source": [
    "mid_h = int(img.shape[0]/2)"
   ]
  },
  {
   "cell_type": "code",
   "execution_count": 47,
   "metadata": {
    "scrolled": false
   },
   "outputs": [
    {
     "data": {
      "text/plain": [
       "array([108, 108, 108, 255], dtype=uint8)"
      ]
     },
     "execution_count": 47,
     "metadata": {},
     "output_type": "execute_result"
    }
   ],
   "source": [
    "img[47,230]"
   ]
  },
  {
   "cell_type": "code",
   "execution_count": 53,
   "metadata": {},
   "outputs": [],
   "source": [
    "ords = []\n",
    "for i in range(0,629):\n",
    "    if( img[mid_h, i][0] == img[mid_h, i][1] == img[mid_h, i][2] ):\n",
    "        r = img[mid_h, i][0]\n",
    "        ords.append(r)\n",
    "        \n",
    "ords = ords[::7]"
   ]
  },
  {
   "cell_type": "code",
   "execution_count": 58,
   "metadata": {},
   "outputs": [
    {
     "name": "stdout",
     "output_type": "stream",
     "text": [
      "smart guy, you made it. the next level is [105, 110, 116, 101, 103, 114, 105, 116, 121]\n"
     ]
    }
   ],
   "source": [
    "result1 = ''.join(map(chr, ords))\n",
    "print(result1)"
   ]
  },
  {
   "cell_type": "code",
   "execution_count": 75,
   "metadata": {},
   "outputs": [
    {
     "name": "stdout",
     "output_type": "stream",
     "text": [
      "integrity\n"
     ]
    }
   ],
   "source": [
    "ords2 = re.findall(r'(\\d+)', result1)\n",
    "ords2 = map(int, ords2)\n",
    "\n",
    "answer = ''.join(map(chr, ords2))\n",
    "print(answer)"
   ]
  },
  {
   "cell_type": "markdown",
   "metadata": {},
   "source": [
    "Level 8 link: http://www.pythonchallenge.com/pc/def/integrity.html"
   ]
  }
 ],
 "metadata": {
  "kernelspec": {
   "display_name": "Python 3",
   "language": "python",
   "name": "python3"
  },
  "language_info": {
   "codemirror_mode": {
    "name": "ipython",
    "version": 3
   },
   "file_extension": ".py",
   "mimetype": "text/x-python",
   "name": "python",
   "nbconvert_exporter": "python",
   "pygments_lexer": "ipython3",
   "version": "3.6.3"
  }
 },
 "nbformat": 4,
 "nbformat_minor": 2
}
