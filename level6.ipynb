{
 "cells": [
  {
   "cell_type": "markdown",
   "metadata": {},
   "source": [
    "# Level 6 \n",
    "\n",
    "Problem link: http://www.pythonchallenge.com/pc/def/channel.html"
   ]
  },
  {
   "cell_type": "markdown",
   "metadata": {},
   "source": [
    "Notes:\n",
    "    \n",
    "1. The page source for the page gives only 1 hint, namely \"zip\"\n",
    "2. Initially I thought this had something to do with the \"zip\" function in Python.\n",
    "3. Turns out, it simply means a zip file. Therefore, to gain access, replace channel.html with channel.zip in the URL\n",
    "4. Extract the file. Its again the \"next nothing\" game here. Re-naming the file to 'level6_channel'.\n",
    "5. Also, it has a readme.txt to specify the starting point"
   ]
  },
  {
   "cell_type": "code",
   "execution_count": 14,
   "metadata": {
    "collapsed": true
   },
   "outputs": [],
   "source": [
    "import re\n",
    "import zipfile"
   ]
  },
  {
   "cell_type": "code",
   "execution_count": 27,
   "metadata": {
    "collapsed": true
   },
   "outputs": [],
   "source": [
    "fp = zipfile.ZipFile('channel.zip')"
   ]
  },
  {
   "cell_type": "code",
   "execution_count": 28,
   "metadata": {},
   "outputs": [
    {
     "name": "stdout",
     "output_type": "stream",
     "text": [
      "welcome to my zipped list.\n",
      "\n",
      "hint1: start from 90052\n",
      "hint2: answer is inside the zip\n",
      "\n"
     ]
    }
   ],
   "source": [
    "readme = fp.read('readme.txt').decode()\n",
    "print(readme)"
   ]
  },
  {
   "cell_type": "code",
   "execution_count": 56,
   "metadata": {},
   "outputs": [
    {
     "name": "stdout",
     "output_type": "stream",
     "text": [
      "Collect the comments. 46145\n"
     ]
    }
   ],
   "source": [
    "num = str(90052)\n",
    "while(num):\n",
    "    filename = num+'.txt'\n",
    "    data = fp.read(filename).decode()\n",
    "    prev_num = num\n",
    "    num = re.findall(r'Next nothing is (\\d+)', data)\n",
    "    num = ''.join(num)\n",
    "print(data, prev_num)"
   ]
  },
  {
   "cell_type": "code",
   "execution_count": 57,
   "metadata": {
    "scrolled": true
   },
   "outputs": [
    {
     "data": {
      "text/plain": [
       "b'\\n'"
      ]
     },
     "execution_count": 57,
     "metadata": {},
     "output_type": "execute_result"
    }
   ],
   "source": [
    "fp.getinfo(filename).comment"
   ]
  },
  {
   "cell_type": "code",
   "execution_count": 58,
   "metadata": {},
   "outputs": [
    {
     "data": {
      "text/plain": [
       "'\\n'"
      ]
     },
     "execution_count": 58,
     "metadata": {},
     "output_type": "execute_result"
    }
   ],
   "source": [
    "fp.getinfo(filename).comment.decode()"
   ]
  },
  {
   "cell_type": "code",
   "execution_count": 61,
   "metadata": {},
   "outputs": [
    {
     "name": "stdout",
     "output_type": "stream",
     "text": [
      "Collect the comments. 46145\n",
      "The comments say: \n",
      "\n",
      "\n",
      "****************************************************************\n",
      "****************************************************************\n",
      "**                                                            **\n",
      "**   OO    OO    XX      YYYY    GG    GG  EEEEEE NN      NN  **\n",
      "**   OO    OO  XXXXXX   YYYYYY   GG   GG   EEEEEE  NN    NN   **\n",
      "**   OO    OO XXX  XXX YYY   YY  GG GG     EE       NN  NN    **\n",
      "**   OOOOOOOO XX    XX YY        GGG       EEEEE     NNNN     **\n",
      "**   OOOOOOOO XX    XX YY        GGG       EEEEE      NN      **\n",
      "**   OO    OO XXX  XXX YYY   YY  GG GG     EE         NN      **\n",
      "**   OO    OO  XXXXXX   YYYYYY   GG   GG   EEEEEE     NN      **\n",
      "**   OO    OO    XX      YYYY    GG    GG  EEEEEE     NN      **\n",
      "**                                                            **\n",
      "****************************************************************\n",
      " **************************************************************\n",
      "\n"
     ]
    }
   ],
   "source": [
    "num = str(90052)\n",
    "comments_list = []\n",
    "while(num):\n",
    "    filename = num+'.txt'\n",
    "    data = fp.read(filename).decode()\n",
    "    comments_list.append( fp.getinfo(filename).comment.decode() )\n",
    "    prev_num = num\n",
    "    num = re.findall(r'Next nothing is (\\d+)', data)\n",
    "    num = ''.join(num)\n",
    "print(data, prev_num)\n",
    "\n",
    "comments_str = ''.join(comments_list)\n",
    "\n",
    "print(\"The comments say: \\n\\n\")\n",
    "\n",
    "print(comments_str)"
   ]
  },
  {
   "cell_type": "markdown",
   "metadata": {},
   "source": [
    "Level 7 link (what one would initially think): http://www.pythonchallenge.com/pc/def/hockey.html\n",
    "\n",
    "Just a hint!"
   ]
  },
  {
   "cell_type": "markdown",
   "metadata": {},
   "source": [
    "Level 7 link (actual): http://www.pythonchallenge.com/pc/def/oxygen.html"
   ]
  }
 ],
 "metadata": {
  "kernelspec": {
   "display_name": "Python 3",
   "language": "python",
   "name": "python3"
  },
  "language_info": {
   "codemirror_mode": {
    "name": "ipython",
    "version": 3
   },
   "file_extension": ".py",
   "mimetype": "text/x-python",
   "name": "python",
   "nbconvert_exporter": "python",
   "pygments_lexer": "ipython3",
   "version": "3.6.3"
  }
 },
 "nbformat": 4,
 "nbformat_minor": 2
}
